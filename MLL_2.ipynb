{
 "cells": [
  {
   "cell_type": "code",
   "execution_count": 36,
   "id": "74996741-cbeb-464b-9581-b54b781da1ec",
   "metadata": {},
   "outputs": [],
   "source": [
    "#Applying Logistic Regression model to the given problem.\n",
    "import numpy as np\n",
    "import pandas as pd\n",
    "from sklearn.model_selection import train_test_split\n",
    "from sklearn.metrics import accuracy_score, confusion_matrix, classification_report\n",
    "\n",
    "#To reproduce same result:\n",
    "np.random.seed(42)\n",
    "\n",
    "height = np.random.randint(150, 190, 100) / 100  \n",
    "weight = np.random.randint(50, 120, 100)  "
   ]
  },
  {
   "cell_type": "code",
   "execution_count": 37,
   "id": "d00ba845-a3dd-44ba-aba0-ca7ff8961b86",
   "metadata": {},
   "outputs": [
    {
     "name": "stdout",
     "output_type": "stream",
     "text": [
      "    Height(m)  Weight(kg)        BMI  Obese\n",
      "0        1.88          97  27.444545      0\n",
      "1        1.78          72  22.724403      0\n",
      "2        1.64         111  41.270077      1\n",
      "3        1.57          86  34.889854      1\n",
      "4        1.70          93  32.179931      1\n",
      "..        ...         ...        ...    ...\n",
      "95       1.58          69  27.639801      0\n",
      "96       1.57         101  40.975293      1\n",
      "97       1.61          82  31.634582      1\n",
      "98       1.83          89  26.575891      0\n",
      "99       1.82          88  26.566840      0\n",
      "\n",
      "[100 rows x 4 columns]\n"
     ]
    }
   ],
   "source": [
    "bmi = weight / (height ** 2)\n",
    "\n",
    "labels = (bmi > 30).astype(int)#Original Data label.\n",
    "\n",
    "data = pd.DataFrame({\n",
    "    'Height(m)': height,\n",
    "    'Weight(kg)': weight,\n",
    "    'BMI': bmi,\n",
    "    'Obese': labels\n",
    "})\n",
    "\n",
    "print(data)"
   ]
  },
  {
   "cell_type": "code",
   "execution_count": 87,
   "id": "54fc0de8-9379-42b4-a056-98c1d70c2cbf",
   "metadata": {},
   "outputs": [
    {
     "name": "stdout",
     "output_type": "stream",
     "text": [
      "    Height(m)  Weight(kg)\n",
      "83       1.57         119\n",
      "53       1.51         108\n",
      "70       1.65          51\n",
      "45       1.56         119\n",
      "44       1.77          52\n",
      "39       1.63         111\n",
      "22       1.82          92\n",
      "80       1.58          87\n",
      "10       1.73          54\n",
      "0        1.88          97\n",
      "18       1.79         101\n",
      "30       1.52          91\n",
      "73       1.75          81\n",
      "33       1.70         106\n",
      "90       1.82         108\n",
      "4        1.70          93\n",
      "76       1.64         117\n",
      "77       1.50         104\n",
      "12       1.89          76\n",
      "31       1.86          94\n"
     ]
    }
   ],
   "source": [
    "X = data[['Height(m)','Weight(kg)']]\n",
    "y = data['Obese']\n",
    "\n",
    "X_train, X_test, y_train, y_test = train_test_split(\n",
    "    X, y, test_size=0.2, random_state=42\n",
    ")\n",
    "print(X_test)"
   ]
  },
  {
   "cell_type": "code",
   "execution_count": 98,
   "id": "2a392648-47fc-4781-a848-c1fa34eb85b7",
   "metadata": {},
   "outputs": [],
   "source": [
    "# x=X_train.values\n",
    "# y=y_train.values\n",
    "x=X_test.values\n",
    "y=y_test.values\n",
    "\n",
    "n = len(x)\n",
    "\n",
    "ttl_x = 0\n",
    "ttl_y = 0\n",
    "ttl_xy = 0\n",
    "ttl_x2 = 0\n",
    "\n",
    "for i in range(n):\n",
    "    ttl_x += x[i]\n",
    "    ttl_y += y[i]\n",
    "    ttl_xy += x[i] * y[i]\n",
    "    ttl_x2 += x[i] ** 2\n",
    "\n",
    "\n",
    "b = ((n * ttl_xy) - (ttl_x * ttl_y)) / ((n * ttl_x2) - (ttl_x ** 2))\n",
    "c = (ttl_y - (b * ttl_x)) / n\n"
   ]
  },
  {
   "cell_type": "code",
   "execution_count": 102,
   "id": "501003b7-72e9-4b62-9382-82317cecbf92",
   "metadata": {},
   "outputs": [
    {
     "ename": "ValueError",
     "evalue": "operands could not be broadcast together with shapes (2,) (20,) ",
     "output_type": "error",
     "traceback": [
      "\u001b[1;31m---------------------------------------------------------------------------\u001b[0m",
      "\u001b[1;31mValueError\u001b[0m                                Traceback (most recent call last)",
      "Cell \u001b[1;32mIn[102], line 1\u001b[0m\n\u001b[1;32m----> 1\u001b[0m final[i] \u001b[38;5;241m=\u001b[39m \u001b[38;5;241m1\u001b[39m \u001b[38;5;241m/\u001b[39m (\u001b[38;5;241m1\u001b[39m \u001b[38;5;241m+\u001b[39m np\u001b[38;5;241m.\u001b[39mexp(\u001b[38;5;241m-\u001b[39m(b\u001b[38;5;241m*\u001b[39my \u001b[38;5;241m+\u001b[39m c)))\n\u001b[0;32m      2\u001b[0m \u001b[38;5;28mprint\u001b[39m(final)\n",
      "\u001b[1;31mValueError\u001b[0m: operands could not be broadcast together with shapes (2,) (20,) "
     ]
    }
   ],
   "source": [
    "final[i] = 1 / (1 + np.exp(-(b*y + c)))\n",
    "print(final)"
   ]
  },
  {
   "cell_type": "code",
   "execution_count": 83,
   "id": "b85b3fb5-87bc-496f-b344-158490d130cc",
   "metadata": {},
   "outputs": [
    {
     "name": "stdout",
     "output_type": "stream",
     "text": [
      "\n",
      "Accuracy: 61.0\n"
     ]
    }
   ],
   "source": [
    "print(\"\\nAccuracy:\", accuracy_score(labels, PRedict_y)*100)"
   ]
  },
  {
   "cell_type": "code",
   "execution_count": null,
   "id": "6e66533d-b839-4a95-845a-e734e834da2e",
   "metadata": {},
   "outputs": [],
   "source": [
    "                                    "
   ]
  }
 ],
 "metadata": {
  "kernelspec": {
   "display_name": "Python 3 (ipykernel)",
   "language": "python",
   "name": "python3"
  },
  "language_info": {
   "codemirror_mode": {
    "name": "ipython",
    "version": 3
   },
   "file_extension": ".py",
   "mimetype": "text/x-python",
   "name": "python",
   "nbconvert_exporter": "python",
   "pygments_lexer": "ipython3",
   "version": "3.12.7"
  }
 },
 "nbformat": 4,
 "nbformat_minor": 5
}
